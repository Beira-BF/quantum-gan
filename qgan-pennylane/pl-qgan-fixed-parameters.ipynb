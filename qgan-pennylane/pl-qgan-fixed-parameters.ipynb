{
 "cells": [
  {
   "cell_type": "code",
   "execution_count": 1,
   "metadata": {},
   "outputs": [],
   "source": [
    "import pennylane as qml\n",
    "import numpy as np\n",
    "import tensorflow as tf\n",
    "import random\n",
    "import matplotlib.pyplot as plt\n",
    "%matplotlib inline\n",
    "import csv\n",
    "\n",
    "dev = qml.device('cirq.simulator', wires=2)"
   ]
  },
  {
   "cell_type": "code",
   "execution_count": 2,
   "metadata": {},
   "outputs": [],
   "source": [
    "@qml.qnode(dev)\n",
    "def generator(w):\n",
    "    z = random.uniform(0, 1)*2-1\n",
    "    \n",
    "    qml.RY(np.arcsin(z), wires=0)\n",
    "    qml.RY(np.arcsin(z), wires=1)\n",
    "    qml.RZ(np.arccos(z), wires=0)\n",
    "    qml.RZ(np.arccos(z), wires=1)\n",
    "    qml.RY(w[0], wires=0)\n",
    "    qml.RY(w[1], wires=1)\n",
    "    qml.Hadamard(wires=0)\n",
    "    qml.Hadamard(wires=1)\n",
    "    \n",
    "    qml.CNOT(wires=[0, 1])\n",
    "    qml.RZ(w[2], wires=1)\n",
    "    qml.CNOT(wires=[0, 1])\n",
    "    \n",
    "    qml.Hadamard(wires=0)\n",
    "    qml.Hadamard(wires=1)\n",
    "    \n",
    "    return qml.expval(qml.PauliZ(0))"
   ]
  },
  {
   "cell_type": "code",
   "execution_count": 7,
   "metadata": {},
   "outputs": [],
   "source": [
    "samples = []\n",
    "num_samples = 1000\n",
    "w = [0.35, 2.10, 5.06]\n",
    "for i in range(num_samples):\n",
    "    samples.append(generator(w))"
   ]
  },
  {
   "cell_type": "code",
   "execution_count": 9,
   "metadata": {
    "scrolled": true
   },
   "outputs": [
    {
     "data": {
      "image/png": "[encoded data removed]",
      "text/plain": [
       "<Figure size 432x288 with 1 Axes>"
      ]
     },
     "metadata": {
      "needs_background": "light"
     },
     "output_type": "display_data"
    }
   ],
   "source": [
    "# the histogram of the data\n",
    "plt.hist(samples, 30, facecolor='g', alpha=0.75)\n",
    "\n",
    "plt.xlabel('Value')\n",
    "plt.ylabel('Frequency')\n",
    "plt.title('Histogram of bimodal distribution')\n",
    "plt.xlim(-1, 1)\n",
    "plt.ylim(0, 150)\n",
    "plt.grid(True)\n",
    "plt.show()"
   ]
  },
  {
   "cell_type": "code",
   "execution_count": null,
   "metadata": {},
   "outputs": [],
   "source": [
    "data = np.array(samples)"
   ]
  },
  {
   "cell_type": "code",
   "execution_count": null,
   "metadata": {},
   "outputs": [],
   "source": [
    "read_data = []\n",
    "with open('data_bimodal.csv') as file:\n",
    "    csv_reader = csv.reader(file, delimiter=',')\n",
    "    for line in csv_reader:\n",
    "        read_data.append(line)\n",
    "read_data = np.squeeze(read_data)\n",
    "read_data = [eval(i) for i in read_data]"
   ]
  },
  {
   "cell_type": "code",
   "execution_count": null,
   "metadata": {},
   "outputs": [],
   "source": [
    "read_data"
   ]
  }
 ],
 "metadata": {
  "kernelspec": {
   "display_name": "kongsr",
   "language": "python",
   "name": "kongsr"
  },
  "language_info": {
   "codemirror_mode": {
    "name": "ipython",
    "version": 3
   },
   "file_extension": ".py",
   "mimetype": "text/x-python",
   "name": "python",
   "nbconvert_exporter": "python",
   "pygments_lexer": "ipython3",
   "version": "3.6.10"
  }
 },
 "nbformat": 4,
 "nbformat_minor": 2
}
