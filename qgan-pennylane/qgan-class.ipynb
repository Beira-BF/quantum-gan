{
 "cells": [
  {
   "cell_type": "code",
   "execution_count": 2,
   "metadata": {},
   "outputs": [],
   "source": [
    "import numpy as np\n",
    "\n",
    "import matplotlib.pyplot as plt\n",
    "%matplotlib inline\n",
    "\n",
    "import time\n",
    "\n",
    "start = time.time()\n",
    "\n",
    "from qiskit import QuantumRegister, QuantumCircuit\n",
    "from qiskit.aqua.components.uncertainty_models import UniformDistribution, UnivariateVariationalDistribution\n",
    "from qiskit.aqua.components.variational_forms import RY\n",
    "\n",
    "from qiskit.aqua.components.neural_networks.quantum_generator import QuantumGenerator\n",
    "from qiskit.aqua.components.neural_networks import NumPyDiscriminator as NumpyDiscriminator\n",
    "\n",
    "from qiskit.aqua import aqua_globals, QuantumInstance\n",
    "from qiskit.aqua.components.initial_states import Custom\n",
    "\n",
    "from qiskit import BasicAer\n",
    "\n",
    "from typing import Optional, Union, List, Dict, Any\n",
    "import csv\n",
    "import os\n",
    "import logging\n",
    "\n",
    "import numpy as np\n",
    "from scipy.stats import entropy\n",
    "\n",
    "from qiskit.circuit import QuantumCircuit\n",
    "from qiskit.providers import BaseBackend\n",
    "from qiskit.aqua import QuantumInstance, AquaError, aqua_globals\n",
    "from qiskit.aqua.algorithms import QuantumAlgorithm\n",
    "from qiskit.aqua.components.neural_networks.discriminative_network import DiscriminativeNetwork\n",
    "from qiskit.aqua.components.neural_networks.generative_network import GenerativeNetwork\n",
    "from qiskit.aqua.components.neural_networks.quantum_generator import QuantumGenerator\n",
    "from qiskit.aqua.components.neural_networks.numpy_discriminator import NumPyDiscriminator\n",
    "from qiskit.aqua.components.optimizers import Optimizer\n",
    "from qiskit.aqua.components.uncertainty_models import UnivariateVariationalDistribution\n",
    "from qiskit.aqua.components.uncertainty_models import MultivariateVariationalDistribution\n",
    "from qiskit.aqua.utils.dataset_helper import discretize_and_truncate\n",
    "from qiskit.aqua.utils.validation import validate_min\n",
    "\n",
    "logger = logging.getLogger(__name__)"
   ]
  },
  {
   "cell_type": "code",
   "execution_count": null,
   "metadata": {},
   "outputs": [],
   "source": []
  },
  {
   "cell_type": "code",
   "execution_count": 74,
   "metadata": {},
   "outputs": [],
   "source": [
    "self = QGAN(real_data, bounds, num_qubits, batch_size, num_epochs, snapshot_dir=None)"
   ]
  },
  {
   "cell_type": "code",
   "execution_count": 75,
   "metadata": {},
   "outputs": [],
   "source": [
    "self._data, self._data_grid, self._grid_elements, self._prob_data = \\\n",
    "    discretize_and_truncate(self._data, self._bounds, self._num_qubits,\n",
    "                            return_data_grid_elements=True,\n",
    "                            return_prob=True, prob_non_zero=True)"
   ]
  },
  {
   "cell_type": "code",
   "execution_count": 68,
   "metadata": {},
   "outputs": [],
   "source": [
    "samples_gen, prob_gen = self._generator.get_output(QuantumInstance(backend=BasicAer.get_backend('statevector_simulator')))\n",
    "temp = np.zeros(len(self._grid_elements))\n",
    "for j, sample in enumerate(samples_gen):\n",
    "    for i, element in enumerate(self._grid_elements):\n",
    "        if sample == element:\n",
    "            temp[i] += prob_gen[j]\n",
    "prob_gen = temp\n",
    "prob_gen = [1e-8 if x == 0 else x for x in prob_gen]\n",
    "rel_entr = entropy(prob_gen, self._prob_data)"
   ]
  },
  {
   "cell_type": "code",
   "execution_count": 86,
   "metadata": {},
   "outputs": [],
   "source": [
    "generated_batch, generated_prob = self._generator.get_output(QuantumInstance(backend=BasicAer.get_backend('statevector_simulator')),\n",
    "                                                             shots=self._batch_size)"
   ]
  },
  {
   "cell_type": "code",
   "execution_count": 88,
   "metadata": {},
   "outputs": [],
   "source": [
    "ret_d = self._discriminator.train([real_batch, generated_batch],\n",
    "                                  [np.ones(len(real_batch)) / len(real_batch),\n",
    "                                   generated_prob])"
   ]
  },
  {
   "cell_type": "code",
   "execution_count": 92,
   "metadata": {},
   "outputs": [],
   "source": [
    "self._quantum_instance"
   ]
  },
  {
   "cell_type": "code",
   "execution_count": null,
   "metadata": {},
   "outputs": [],
   "source": []
  },
  {
   "cell_type": "code",
   "execution_count": 94,
   "metadata": {},
   "outputs": [],
   "source": [
    "class QGAN(QuantumAlgorithm):\n",
    "    def __init__(self, data: np.ndarray, bounds: Optional[np.ndarray] = None,\n",
    "                 num_qubits: Optional[np.ndarray] = None, batch_size: int = 500,\n",
    "                 num_epochs: int = 3000, seed: int = 7,\n",
    "                 discriminator: Optional[DiscriminativeNetwork] = None,\n",
    "                 generator: Optional[GenerativeNetwork] = None,\n",
    "                 tol_rel_ent: Optional[float] = None, snapshot_dir: Optional[str] = None,\n",
    "                 quantum_instance: Optional[Union[QuantumInstance, BaseBackend]] = None) -> None:\n",
    "\n",
    "        validate_min('batch_size', batch_size, 1)\n",
    "        super().__init__(quantum_instance)\n",
    "        if data is None:\n",
    "            raise AquaError('Training data not given.')\n",
    "        self._data = np.array(data)\n",
    "        if bounds is None:\n",
    "            bounds_min = np.percentile(self._data, 5, axis=0)\n",
    "            bounds_max = np.percentile(self._data, 95, axis=0)\n",
    "            bounds = []\n",
    "            for i, _ in enumerate(bounds_min):\n",
    "                bounds.append([bounds_min[i], bounds_max[i]])\n",
    "        # dimension greater than 1\n",
    "        if np.ndim(data) > 1:\n",
    "            if len(bounds) != (len(num_qubits) or len(data[0])):\n",
    "                raise AquaError('Dimensions of the data, the length of the data bounds '\n",
    "                                'and the numbers of qubits per '\n",
    "                                'dimension are incompatible.')\n",
    "        else:\n",
    "            if (np.ndim(bounds) or len(num_qubits)) != 1:\n",
    "                raise AquaError('Dimensions of the data, the length of the data bounds '\n",
    "                                'and the numbers of qubits per '\n",
    "                                'dimension are incompatible.')\n",
    "        self._bounds = np.array(bounds)\n",
    "        self._num_qubits = num_qubits\n",
    "        # pylint: disable=unsubscriptable-object\n",
    "        if np.ndim(data) > 1:\n",
    "            if self._num_qubits is None:\n",
    "                self._num_qubits = np.ones[len(data[0])] * 3\n",
    "        else:\n",
    "            if self._num_qubits is None:\n",
    "                self._num_qubits = np.array([3])\n",
    "        self._data, self._data_grid, self._grid_elements, self._prob_data = \\\n",
    "            discretize_and_truncate(self._data, self._bounds, self._num_qubits,\n",
    "                                    return_data_grid_elements=True,\n",
    "                                    return_prob=True, prob_non_zero=True)\n",
    "        self._batch_size = batch_size\n",
    "        self._num_epochs = num_epochs\n",
    "        self._snapshot_dir = snapshot_dir\n",
    "        self._g_loss = []  # type: List[float]\n",
    "        self._d_loss = []  # type: List[float]\n",
    "        self._rel_entr = []  # type: List[float]\n",
    "        self._tol_rel_ent = tol_rel_ent\n",
    "\n",
    "        self._random_seed = seed\n",
    "\n",
    "        if generator is None:\n",
    "            self.set_generator()\n",
    "        else:\n",
    "            self._generator = generator\n",
    "        if discriminator is None:\n",
    "            self.set_discriminator()\n",
    "        else:\n",
    "            self._discriminator = discriminator\n",
    "\n",
    "        self.seed = self._random_seed\n",
    "\n",
    "        self._ret = {}  # type: Dict[str, Any]\n",
    "\n",
    "    @property\n",
    "    def seed(self):\n",
    "        \"\"\" Returns random seed \"\"\"\n",
    "        return self._random_seed\n",
    "\n",
    "    @seed.setter\n",
    "    def seed(self, s):\n",
    "        \"\"\"\n",
    "        Sets the random seed for QGAN and updates the aqua_globals seed\n",
    "        at the same time\n",
    "\n",
    "        Args:\n",
    "            s (int): random seed\n",
    "        \"\"\"\n",
    "        self._random_seed = s\n",
    "        aqua_globals.random_seed = self._random_seed\n",
    "        self._discriminator.set_seed(self._random_seed)\n",
    "\n",
    "    @property\n",
    "    def tol_rel_ent(self):\n",
    "        \"\"\" Returns tolerance for relative entropy \"\"\"\n",
    "        return self._tol_rel_ent\n",
    "\n",
    "    @tol_rel_ent.setter\n",
    "    def tol_rel_ent(self, t):\n",
    "        \"\"\"\n",
    "        Set tolerance for relative entropy\n",
    "\n",
    "        Args:\n",
    "            t (float): or None, Set tolerance level for relative entropy.\n",
    "                If the training achieves relative\n",
    "                entropy equal or lower than tolerance it finishes.\n",
    "        \"\"\"\n",
    "        self._tol_rel_ent = t\n",
    "\n",
    "    @property\n",
    "    def generator(self):\n",
    "        \"\"\" Returns generator \"\"\"\n",
    "        return self._generator\n",
    "\n",
    "    # pylint: disable=unused-argument\n",
    "    def set_generator(self, generator_circuit: Optional[Union[QuantumCircuit,\n",
    "                                                              UnivariateVariationalDistribution,\n",
    "                                                              MultivariateVariationalDistribution]\n",
    "                                                        ] = None,\n",
    "                      generator_init_params: Optional[np.ndarray] = None,\n",
    "                      generator_optimizer: Optional[Optimizer] = None):\n",
    "        \"\"\"Initialize generator.\n",
    "\n",
    "        Args:\n",
    "            generator_circuit: parameterized quantum circuit which sets\n",
    "                the structure of the quantum generator\n",
    "            generator_init_params: initial parameters for the generator circuit\n",
    "            generator_optimizer: optimizer to be used for the training of the generator\n",
    "        \"\"\"\n",
    "        self._generator = QuantumGenerator(self._bounds, self._num_qubits,\n",
    "                                           generator_circuit, generator_init_params,\n",
    "                                           self._snapshot_dir)\n",
    "\n",
    "\n",
    "    @property\n",
    "    def discriminator(self):\n",
    "        \"\"\" Returns discriminator \"\"\"\n",
    "        return self._discriminator\n",
    "\n",
    "    def set_discriminator(self, discriminator=None):\n",
    "        \"\"\"\n",
    "        Initialize discriminator.\n",
    "\n",
    "        Args:\n",
    "            discriminator (Discriminator): discriminator\n",
    "        \"\"\"\n",
    "\n",
    "        if discriminator is None:\n",
    "            self._discriminator = NumPyDiscriminator(len(self._num_qubits))\n",
    "        else:\n",
    "            self._discriminator = discriminator\n",
    "        self._discriminator.set_seed(self._random_seed)\n",
    "\n",
    "\n",
    "    @property\n",
    "    def g_loss(self) -> List[float]:\n",
    "        \"\"\" Returns generator loss \"\"\"\n",
    "        return self._g_loss\n",
    "\n",
    "    @property\n",
    "    def d_loss(self) -> List[float]:\n",
    "        \"\"\" Returns discriminator loss \"\"\"\n",
    "        return self._d_loss\n",
    "\n",
    "    @property\n",
    "    def rel_entr(self) -> List[float]:\n",
    "        \"\"\" Returns relative entropy between target and trained distribution \"\"\"\n",
    "        return self._rel_entr\n",
    "\n",
    "    def get_rel_entr(self) -> float:\n",
    "        \"\"\" Get relative entropy between target and trained distribution \"\"\"\n",
    "        samples_gen, prob_gen = self._generator.get_output(self._quantum_instance)\n",
    "        temp = np.zeros(len(self._grid_elements))\n",
    "        for j, sample in enumerate(samples_gen):\n",
    "            for i, element in enumerate(self._grid_elements):\n",
    "                if sample == element:\n",
    "                    temp[i] += prob_gen[j]\n",
    "        prob_gen = temp\n",
    "        prob_gen = [1e-8 if x == 0 else x for x in prob_gen]\n",
    "        rel_entr = entropy(prob_gen, self._prob_data)\n",
    "        return rel_entr\n",
    "\n",
    "\n",
    "    def _store_params(self, e, d_loss, g_loss, rel_entr):\n",
    "        with open(os.path.join(self._snapshot_dir, 'output.csv'), mode='a') as csv_file:\n",
    "            fieldnames = ['epoch', 'loss_discriminator',\n",
    "                          'loss_generator', 'params_generator', 'rel_entropy']\n",
    "            writer = csv.DictWriter(csv_file, fieldnames=fieldnames)\n",
    "            writer.writerow({'epoch': e, 'loss_discriminator': np.average(d_loss),\n",
    "                             'loss_generator': np.average(g_loss), 'params_generator':\n",
    "                                 self._generator.generator_circuit.params, 'rel_entropy': rel_entr})\n",
    "        self._discriminator.save_model(self._snapshot_dir)  # Store discriminator model\n",
    "\n",
    "    def train(self):\n",
    "        \"\"\"\n",
    "        Train the qGAN\n",
    "\n",
    "        Raises:\n",
    "            AquaError: Batch size bigger than the number of items in the truncated data set\n",
    "        \"\"\"\n",
    "        if self._snapshot_dir is not None:\n",
    "            with open(os.path.join(self._snapshot_dir, 'output.csv'), mode='w') as csv_file:\n",
    "                fieldnames = ['epoch', 'loss_discriminator', 'loss_generator', 'params_generator',\n",
    "                              'rel_entropy']\n",
    "                writer = csv.DictWriter(csv_file, fieldnames=fieldnames)\n",
    "                writer.writeheader()\n",
    "\n",
    "        if len(self._data) < self._batch_size:\n",
    "            raise AquaError(\n",
    "                'The batch size needs to be less than the '\n",
    "                'truncated data size of {}'.format(len(self._data)))\n",
    "\n",
    "        for e in range(self._num_epochs):\n",
    "            aqua_globals.random.shuffle(self._data)\n",
    "            index = 0\n",
    "            while (index + self._batch_size) <= len(self._data):\n",
    "                real_batch = self._data[index: index + self._batch_size]\n",
    "                index += self._batch_size\n",
    "                generated_batch, generated_prob = self._generator.get_output(self._quantum_instance,\n",
    "                                                                             shots=self._batch_size)\n",
    "\n",
    "                # 1. Train Discriminator\n",
    "                ret_d = self._discriminator.train([real_batch, generated_batch],\n",
    "                                                  [np.ones(len(real_batch)) / len(real_batch),\n",
    "                                                   generated_prob])\n",
    "                d_loss_min = ret_d['loss']\n",
    "\n",
    "                # 2. Train Generator\n",
    "                self._generator.set_discriminator(self._discriminator)\n",
    "                ret_g = self._generator.train(self._quantum_instance, shots=self._batch_size)\n",
    "                g_loss_min = ret_g['loss']\n",
    "\n",
    "            self._d_loss.append(np.around(float(d_loss_min), 4))\n",
    "            self._g_loss.append(np.around(g_loss_min, 4))\n",
    "\n",
    "            rel_entr = self.get_rel_entr()\n",
    "            self._rel_entr.append(np.around(rel_entr, 4))\n",
    "            self._ret['params_d'] = ret_d['params']\n",
    "            self._ret['params_g'] = ret_g['params']\n",
    "            self._ret['loss_d'] = np.around(float(d_loss_min), 4)\n",
    "            self._ret['loss_g'] = np.around(g_loss_min, 4)\n",
    "            self._ret['rel_entr'] = np.around(rel_entr, 4)\n",
    "\n",
    "            if self._snapshot_dir is not None:\n",
    "                self._store_params(e, np.around(d_loss_min, 4),\n",
    "                                   np.around(g_loss_min, 4), np.around(rel_entr, 4))\n",
    "            logger.debug('Epoch %s/%s...', e + 1, self._num_epochs)\n",
    "            logger.debug('Loss Discriminator: %s', np.around(float(d_loss_min), 4))\n",
    "            logger.debug('Loss Generator: %s', np.around(g_loss_min, 4))\n",
    "            logger.debug('Relative Entropy: %s', np.around(rel_entr, 4))\n",
    "            \n",
    "            print('Epoch %s/%s...', e + 1, self._num_epochs)\n",
    "            print('Loss Discriminator: %s', np.around(float(d_loss_min), 4))\n",
    "            print('Loss Generator: %s', np.around(g_loss_min, 4))\n",
    "            print('Relative Entropy: %s', np.around(rel_entr, 4))\n",
    "\n",
    "            if self._tol_rel_ent is not None:\n",
    "                if rel_entr <= self._tol_rel_ent:\n",
    "                    break\n",
    "\n",
    "\n",
    "    def _run(self):\n",
    "        \"\"\"\n",
    "        Run qGAN training\n",
    "\n",
    "        Returns:\n",
    "            dict: with generator(discriminator) parameters & loss, relative entropy\n",
    "        Raises:\n",
    "            AquaError: invalid backend\n",
    "        \"\"\"\n",
    "        if self._quantum_instance.backend_name == ('unitary_simulator' or 'clifford_simulator'):\n",
    "            raise AquaError(\n",
    "                'Chosen backend not supported - '\n",
    "                'Set backend either to statevector_simulator, qasm_simulator'\n",
    "                ' or actual quantum hardware')\n",
    "        self.train()\n",
    "\n",
    "        return self._ret"
   ]
  },
  {
   "cell_type": "code",
   "execution_count": 95,
   "metadata": {},
   "outputs": [],
   "source": [
    "# Number training data samples\n",
    "N = 1000 \n",
    "\n",
    "# Load data samples from log-normal distribution with mean=1 and standard deviation=1\n",
    "mu = 1\n",
    "sigma = 1\n",
    "real_data = np.random.lognormal(mean = mu, sigma=sigma, size=N)\n",
    "\n",
    "# Set the data resolution\n",
    "# Set upper and lower data values as list of k min/max data values [[min_0,max_0],...,[min_k-1,max_k-1]]\n",
    "bounds = np.array([0.,7.])\n",
    "# Set number of qubits per data dimension as list of k qubit values[#q_0,...,#q_k-1]\n",
    "num_qubits = [2]\n",
    "k = len(num_qubits)"
   ]
  },
  {
   "cell_type": "code",
   "execution_count": 6,
   "metadata": {
    "scrolled": true
   },
   "outputs": [
    {
     "name": "stderr",
     "output_type": "stream",
     "text": [
      "/home/junde/anaconda3/envs/kongsr/lib/python3.6/site-packages/ipykernel_launcher.py:24: DeprecationWarning: The qiskit.aqua.components.variational_forms.RY object is deprecated as of 0.7.0 and will be removed no sooner than 3 months after the release. You should use qiskit.circuit.library.RealAmplitudes (uses CX entangling) or qiskit.circuit.library.TwoLocal instead.\n",
      "/home/junde/anaconda3/envs/kongsr/lib/python3.6/site-packages/ipykernel_launcher.py:29: DeprecationWarning: The VariationalForm type is deprecated as argument of the UnivariateVariationalDistribution as of 0.7.0 and will be removed no earlier than 3 months after the release. You should pass an object of type QuantumCircuit instead (see qiskit.circuit.library for a collection of suitable objects).\n"
     ]
    }
   ],
   "source": [
    "# Set number of training epochs\n",
    "# Note: The algorithm's runtime can be shortened by reducing the number of training epochs.\n",
    "num_epochs = 300\n",
    "# Batch size\n",
    "batch_size = 100\n",
    "\n",
    " # Initialize qGAN\n",
    "qgan = QGAN(real_data, bounds, num_qubits, batch_size, num_epochs, snapshot_dir=None)\n",
    "qgan.seed = 1\n",
    "# Set quantum instance to run the quantum generator\n",
    "quantum_instance = QuantumInstance(backend=BasicAer.get_backend('statevector_simulator'))\n",
    "\n",
    "# Set entangler map\n",
    "entangler_map = [[0, 1]]\n",
    "\n",
    "\n",
    "# Set an initial state for the generator circuit\n",
    "init_dist = UniformDistribution(sum(num_qubits), low=bounds[0], high=bounds[1])\n",
    "q = QuantumRegister(sum(num_qubits), name='q')\n",
    "qc = QuantumCircuit(q)\n",
    "init_dist.build(qc, q)\n",
    "init_distribution = Custom(num_qubits=sum(num_qubits), circuit=qc)\n",
    "var_form = RY(int(np.sum(num_qubits)), depth=1, initial_state = init_distribution, \n",
    "              entangler_map=entangler_map, entanglement_gate='cz')\n",
    "# Set generator's initial parameters\n",
    "init_params = aqua_globals.random.random(var_form._num_parameters) * 2 * np.pi\n",
    "# Set generator circuit\n",
    "g_circuit = UnivariateVariationalDistribution(int(sum(num_qubits)), var_form, init_params,\n",
    "                                              low=bounds[0], high=bounds[1])\n",
    "# Set quantum generator\n",
    "qgan.set_generator(generator_circuit=g_circuit)\n",
    "# Set classical discriminator neural network\n",
    "discriminator = NumpyDiscriminator(len(num_qubits))\n",
    "qgan.set_discriminator(discriminator)"
   ]
  },
  {
   "cell_type": "code",
   "execution_count": 5,
   "metadata": {},
   "outputs": [
    {
     "data": {
      "text/plain": [
       "array([2.62022653e+00, 4.52593227e+00, 7.18638172e-04, 1.89961158e+00])"
      ]
     },
     "execution_count": 5,
     "metadata": {},
     "output_type": "execute_result"
    }
   ],
   "source": [
    "init_params "
   ]
  },
  {
   "cell_type": "code",
   "execution_count": null,
   "metadata": {},
   "outputs": [],
   "source": []
  },
  {
   "cell_type": "code",
   "execution_count": 6,
   "metadata": {},
   "outputs": [
    {
     "name": "stdout",
     "output_type": "stream",
     "text": [
      "qGAN training runtime:  4.528477919101715  min\n"
     ]
    }
   ],
   "source": [
    "# Run qGAN\n",
    "qgan.run(quantum_instance)\n",
    "\n",
    "# Runtime\n",
    "end = time.time()\n",
    "print('qGAN training runtime: ', (end - start)/60., ' min')"
   ]
  },
  {
   "cell_type": "code",
   "execution_count": 7,
   "metadata": {},
   "outputs": [
    {
     "data": {
      "text/plain": [
       "<BarContainer object of 4 artists>"
      ]
     },
     "execution_count": 7,
     "metadata": {},
     "output_type": "execute_result"
    },
    {
     "data": {
      "image/png": "[encoded data removed]",
      "text/plain": [
       "<Figure size 432x288 with 1 Axes>"
      ]
     },
     "metadata": {
      "needs_background": "light"
     },
     "output_type": "display_data"
    }
   ],
   "source": [
    "samples_g, prob_g = qgan.generator.get_output(qgan.quantum_instance, shots=10000)\n",
    "samples_g = np.array(samples_g)\n",
    "samples_g = samples_g.flatten()\n",
    "num_bins = len(prob_g)\n",
    "plt.bar(samples_g,  prob_g, color='royalblue', width= 0.8, label='simulation')"
   ]
  },
  {
   "cell_type": "code",
   "execution_count": null,
   "metadata": {},
   "outputs": [],
   "source": []
  },
  {
   "cell_type": "code",
   "execution_count": 8,
   "metadata": {},
   "outputs": [
    {
     "data": {
      "image/png": "[encoded data removed]",
      "text/plain": [
       "<Figure size 432x360 with 1 Axes>"
      ]
     },
     "metadata": {
      "needs_background": "light"
     },
     "output_type": "display_data"
    },
    {
     "data": {
      "image/png": "[encoded data removed]",
      "text/plain": [
       "<Figure size 432x360 with 1 Axes>"
      ]
     },
     "metadata": {
      "needs_background": "light"
     },
     "output_type": "display_data"
    },
    {
     "data": {
      "image/png": "[encoded data removed]",
      "text/plain": [
       "<Figure size 432x360 with 1 Axes>"
      ]
     },
     "metadata": {
      "needs_background": "light"
     },
     "output_type": "display_data"
    }
   ],
   "source": [
    "# Plot progress w.r.t the generator's and the discriminator's loss function\n",
    "t_steps = np.arange(num_epochs)\n",
    "plt.figure(figsize=(6,5))\n",
    "plt.title(\"Progress in the loss function\")\n",
    "plt.plot(t_steps, qgan.g_loss, label = \"Generator loss function\", color = 'mediumvioletred', linewidth = 2)\n",
    "plt.plot(t_steps, qgan.d_loss, label = \"Discriminator loss function\", color = 'rebeccapurple', linewidth = 2)\n",
    "plt.grid()\n",
    "plt.legend(loc = 'best')\n",
    "plt.xlabel('time steps')\n",
    "plt.ylabel('loss')\n",
    "plt.show()\n",
    "\n",
    "\n",
    "# Plot progress w.r.t relative entropy\n",
    "plt.figure(figsize=(6,5))\n",
    "plt.title(\"Relative Entropy \")\n",
    "plt.plot(np.linspace(0, num_epochs, len(qgan.rel_entr)), qgan.rel_entr, color ='mediumblue', lw=4, ls=':')\n",
    "plt.grid()\n",
    "plt.xlabel('time steps')\n",
    "plt.ylabel('relative entropy')\n",
    "plt.show()\n",
    "\n",
    "#Plot the PDF of the resulting distribution against the target distribution, i.e. log-normal\n",
    "log_normal = np.random.lognormal(mean=1, sigma=1, size=100000)\n",
    "log_normal = np.round(log_normal)\n",
    "log_normal = log_normal[log_normal <= bounds[1]]\n",
    "temp = []\n",
    "for i in range(int(bounds[1]+1)):\n",
    "    temp += [np.sum(log_normal==i)]\n",
    "log_normal = np.array(temp / sum(temp))\n",
    "\n",
    "plt.figure(figsize=(6,5))\n",
    "plt.title(\"CDF\")\n",
    "samples_g, prob_g = qgan.generator.get_output(qgan.quantum_instance, shots=10000)\n",
    "samples_g = np.array(samples_g)\n",
    "samples_g = samples_g.flatten()\n",
    "num_bins = len(prob_g)\n",
    "plt.bar(samples_g,  np.cumsum(prob_g), color='royalblue', width= 0.8, label='simulation')\n",
    "plt.plot( np.cumsum(log_normal),'-o', label='log-normal', color='deepskyblue', linewidth=4, markersize=12)\n",
    "plt.xticks(np.arange(min(samples_g), max(samples_g)+1, 1.0))\n",
    "plt.grid()\n",
    "plt.xlabel('x')\n",
    "plt.ylabel('p(x)')\n",
    "plt.legend(loc='best')\n",
    "plt.show()"
   ]
  },
  {
   "cell_type": "code",
   "execution_count": null,
   "metadata": {},
   "outputs": [],
   "source": []
  }
 ],
 "metadata": {
  "kernelspec": {
   "display_name": "kongsr",
   "language": "python",
   "name": "kongsr"
  },
  "language_info": {
   "codemirror_mode": {
    "name": "ipython",
    "version": 3
   },
   "file_extension": ".py",
   "mimetype": "text/x-python",
   "name": "python",
   "nbconvert_exporter": "python",
   "pygments_lexer": "ipython3",
   "version": "3.6.10"
  }
 },
 "nbformat": 4,
 "nbformat_minor": 2
}
